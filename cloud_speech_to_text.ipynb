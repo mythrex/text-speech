{
 "cells": [
  {
   "cell_type": "code",
   "execution_count": 29,
   "metadata": {},
   "outputs": [],
   "source": [
    "from google.cloud import speech_v1\n",
    "from google.protobuf.json_format import MessageToJson\n",
    "import io\n",
    "import json\n",
    "\n",
    "def sample_recognize(local_file_path, lang=\"en-US\", model=\"phone_call\"):\n",
    "    \"\"\"\n",
    "    Transcribe a short audio file using a specified transcription model\n",
    "\n",
    "    Args:\n",
    "      local_file_path Path to local audio file, e.g. /path/audio.wav\n",
    "      model The transcription model to use, e.g. video, phone_call, default\n",
    "      For a list of available transcription models, see:\n",
    "      https://cloud.google.com/speech-to-text/docs/transcription-model#transcription_models\n",
    "    \"\"\"\n",
    "\n",
    "    client = speech_v1.SpeechClient()\n",
    "\n",
    "    # local_file_path = 'resources/hello.wav'\n",
    "    # model = 'phone_call'\n",
    "\n",
    "    # The language of the supplied audio\n",
    "    config = {\"model\": model,\n",
    "              \"language_code\": lang,\n",
    "              \"use_enhanced\": True,\n",
    "              \"enable_automatic_punctuation\": True,\n",
    "              \"encoding\": \"LINEAR16\",\n",
    "              \"audio_channel_count\": 2,\n",
    "              #               \"enable_separate_recognition_per_channel\": True,\n",
    "              \"diarization_config\": {\n",
    "                  \"enable_speaker_diarization\": True,\n",
    "                  \"min_speaker_count\": 2,\n",
    "                  \"speaker_tag\": 2\n",
    "              }\n",
    "              }\n",
    "    with io.open(local_file_path, \"rb\") as f:\n",
    "        content = f.read()\n",
    "    audio = {\"content\": content}\n",
    "\n",
    "    response = client.recognize(config, audio)\n",
    "    serialized = MessageToJson(response)\n",
    "    return json.loads(serialized)[\"results\"][-1][\"alternatives\"]"
   ]
  },
  {
   "cell_type": "code",
   "execution_count": 135,
   "metadata": {},
   "outputs": [],
   "source": [
    "res = sample_recognize(\"/home/mythrex/Documents/zeenat_conv.wav\")"
   ]
  },
  {
   "cell_type": "code",
   "execution_count": 23,
   "metadata": {},
   "outputs": [],
   "source": [
    "from google.cloud import language\n",
    "from google.cloud.language import enums\n",
    "from google.cloud.language import types\n",
    "\n",
    "def analyze_sentiment(text):\n",
    "    # Instantiates a client\n",
    "    client = language.LanguageServiceClient()\n",
    "    # The text to analyze\n",
    "    document = types.Document(\n",
    "        content=text,\n",
    "        type=enums.Document.Type.PLAIN_TEXT)\n",
    "    # Detects the sentiment of the text\n",
    "    sent = client.analyze_sentiment(document=document)\n",
    "    return sent"
   ]
  },
  {
   "cell_type": "code",
   "execution_count": 26,
   "metadata": {},
   "outputs": [
    {
     "name": "stdout",
     "output_type": "stream",
     "text": [
      "Text: whore\n",
      "Sentiment: -0.5, 0.5\n"
     ]
    }
   ],
   "source": [
    "text = \"whore\"\n",
    "sentiment = analyze_sentiment(text).document_sentiment\n",
    "print('Text: {}'.format(text))\n",
    "print('Sentiment: {}, {}'.format(sentiment.score, sentiment.magnitude))"
   ]
  },
  {
   "cell_type": "code",
   "execution_count": 30,
   "metadata": {},
   "outputs": [
    {
     "data": {
      "text/plain": [
       "{'documentSentiment': {'magnitude': 0.5, 'score': -0.5},\n",
       " 'language': 'en',\n",
       " 'sentences': [{'text': {'content': 'whore', 'beginOffset': -1},\n",
       "   'sentiment': {'magnitude': 0.5, 'score': -0.5}}]}"
      ]
     },
     "execution_count": 30,
     "metadata": {},
     "output_type": "execute_result"
    }
   ],
   "source": [
    "json.loads(MessageToJson(analyze_sentiment(text)))"
   ]
  },
  {
   "cell_type": "code",
   "execution_count": null,
   "metadata": {},
   "outputs": [],
   "source": []
  }
 ],
 "metadata": {
  "kernelspec": {
   "display_name": "Python 3",
   "language": "python",
   "name": "python3"
  },
  "language_info": {
   "codemirror_mode": {
    "name": "ipython",
    "version": 3
   },
   "file_extension": ".py",
   "mimetype": "text/x-python",
   "name": "python",
   "nbconvert_exporter": "python",
   "pygments_lexer": "ipython3",
   "version": "3.7.3"
  }
 },
 "nbformat": 4,
 "nbformat_minor": 4
}
